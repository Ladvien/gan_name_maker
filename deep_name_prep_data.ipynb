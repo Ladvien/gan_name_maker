{
  "nbformat": 4,
  "nbformat_minor": 0,
  "metadata": {
    "colab": {
      "name": "deep_name_prep_data.ipynb",
      "provenance": [],
      "collapsed_sections": [],
      "include_colab_link": true
    },
    "kernelspec": {
      "name": "python3",
      "display_name": "Python 3"
    }
  },
  "cells": [
    {
      "cell_type": "markdown",
      "metadata": {
        "id": "view-in-github",
        "colab_type": "text"
      },
      "source": [
        "<a href=\"https://colab.research.google.com/github/Ladvien/gan_name_maker/blob/master/deep_name_prep_data.ipynb\" target=\"_parent\"><img src=\"https://colab.research.google.com/assets/colab-badge.svg\" alt=\"Open In Colab\"/></a>"
      ]
    },
    {
      "cell_type": "markdown",
      "metadata": {
        "id": "rpRme9dh6Yne",
        "colab_type": "text"
      },
      "source": [
        "# Deep Name Generator\n",
        "\n",
        "This project is meant to be a proof-of-concept.  Showing \"organic\" first names can be generated using a [Generative Advasarial Network](https://en.wikipedia.org/wiki/Generative_adversarial_network). We are using a found dataset provided by [Hadley Wickham](http://hadley.nz/) at RStudio.\n",
        "\n",
        "The goal will be to vectorize each of the names in the following format:\n",
        "\n",
        "| a_0 | b_0 | c_0 | ... | z_9 | a_10 | etc |\n",
        "|-----|-----|-----|-----|-----|------|-----|\n",
        "|  1  |  0  |  0  | ... |  1  |  0   |  0  |\n",
        "|  0  |  0  |  1  | ... |  0  |  0   |  0  |\n",
        "\n",
        "Where the letter is the one-hot encoded representation of a character and the number the placeholder in string.\n",
        "\n",
        "For example, the name `Abby` would be represented with the following vector.\n",
        "\n",
        "| a_0 | ... | b_1 | ... | b_2 | ... | y_3 |\n",
        "|-----|-----|-----|-----|-----|-----|-----|\n",
        "|  1  | ... |  1  | ... |  1  | ... |  1  |\n",
        "\n",
        "Given Wickham's dataset also includes:\n",
        "\n",
        "* `year`\n",
        "* `percent_[popularity]`\n",
        "* `sex`\n",
        "\n",
        "It may be interesting to add these as additional features to allow the model to learn first name contexts.\n"
      ]
    },
    {
      "cell_type": "code",
      "metadata": {
        "id": "JU-JeLhd6S-o",
        "colab_type": "code",
        "colab": {}
      },
      "source": [
        "import pandas as pd\n",
        "import numpy as np"
      ],
      "execution_count": 0,
      "outputs": []
    },
    {
      "cell_type": "code",
      "metadata": {
        "id": "wLQovCHL6cxj",
        "colab_type": "code",
        "colab": {
          "base_uri": "https://localhost:8080/",
          "height": 381
        },
        "outputId": "9c88e8e8-5d5f-4a33-d5f8-67773fd28139"
      },
      "source": [
        "# Engineering parameters.\n",
        "pad_character       = '~'\n",
        "allowed_chars       = f'abcdefghijklmnopqrstuvwxyz{pad_character}'\n",
        "len_allow_chars     = len(allowed_chars)\n",
        "max_name_length     = 10 \n",
        "\n",
        "templated_df = pd.DataFrame()\n",
        "\n",
        "# Create the dataframe.\n",
        "for i in range(max_name_length):\n",
        "  for char in allowed_chars:\n",
        "    templated_df[char + '_' + str(i)] = 0\n",
        "\n",
        "# Show the first and last ten columns.\n",
        "templated_df.columns.tolist()[0:10] + templated_df.columns.tolist()[-10:]"
      ],
      "execution_count": 2,
      "outputs": [
        {
          "output_type": "execute_result",
          "data": {
            "text/plain": [
              "['a_0',\n",
              " 'b_0',\n",
              " 'c_0',\n",
              " 'd_0',\n",
              " 'e_0',\n",
              " 'f_0',\n",
              " 'g_0',\n",
              " 'h_0',\n",
              " 'i_0',\n",
              " 'j_0',\n",
              " 'r_9',\n",
              " 's_9',\n",
              " 't_9',\n",
              " 'u_9',\n",
              " 'v_9',\n",
              " 'w_9',\n",
              " 'x_9',\n",
              " 'y_9',\n",
              " 'z_9',\n",
              " '~_9']"
            ]
          },
          "metadata": {
            "tags": []
          },
          "execution_count": 2
        }
      ]
    },
    {
      "cell_type": "code",
      "metadata": {
        "id": "Y1AD0gD66eUo",
        "colab_type": "code",
        "colab": {
          "base_uri": "https://localhost:8080/",
          "height": 90
        },
        "outputId": "54e31775-a5e3-48ec-b37d-2b9d8ed1b697"
      },
      "source": [
        "!git clone https://github.com/hadley/data-baby-names.git"
      ],
      "execution_count": 3,
      "outputs": [
        {
          "output_type": "stream",
          "text": [
            "Cloning into 'data-baby-names'...\n",
            "remote: Enumerating objects: 70, done.\u001b[K\n",
            "remote: Total 70 (delta 0), reused 0 (delta 0), pack-reused 70\u001b[K\n",
            "Unpacking objects: 100% (70/70), done.\n"
          ],
          "name": "stdout"
        }
      ]
    },
    {
      "cell_type": "markdown",
      "metadata": {
        "id": "SA3J7L3O6oSS",
        "colab_type": "text"
      },
      "source": [
        "## Examine the Data"
      ]
    },
    {
      "cell_type": "code",
      "metadata": {
        "id": "FPro4nc06nPp",
        "colab_type": "code",
        "colab": {}
      },
      "source": [
        "df = pd.read_csv('/content/data-baby-names/baby-names.csv')"
      ],
      "execution_count": 0,
      "outputs": []
    },
    {
      "cell_type": "code",
      "metadata": {
        "id": "aNqOSHDV6rui",
        "colab_type": "code",
        "colab": {
          "base_uri": "https://localhost:8080/",
          "height": 198
        },
        "outputId": "94acab6e-06f3-4a4f-8e1e-071979529fd4"
      },
      "source": [
        "df.head()"
      ],
      "execution_count": 5,
      "outputs": [
        {
          "output_type": "execute_result",
          "data": {
            "text/html": [
              "<div>\n",
              "<style scoped>\n",
              "    .dataframe tbody tr th:only-of-type {\n",
              "        vertical-align: middle;\n",
              "    }\n",
              "\n",
              "    .dataframe tbody tr th {\n",
              "        vertical-align: top;\n",
              "    }\n",
              "\n",
              "    .dataframe thead th {\n",
              "        text-align: right;\n",
              "    }\n",
              "</style>\n",
              "<table border=\"1\" class=\"dataframe\">\n",
              "  <thead>\n",
              "    <tr style=\"text-align: right;\">\n",
              "      <th></th>\n",
              "      <th>year</th>\n",
              "      <th>name</th>\n",
              "      <th>percent</th>\n",
              "      <th>sex</th>\n",
              "    </tr>\n",
              "  </thead>\n",
              "  <tbody>\n",
              "    <tr>\n",
              "      <th>0</th>\n",
              "      <td>1880</td>\n",
              "      <td>John</td>\n",
              "      <td>0.081541</td>\n",
              "      <td>boy</td>\n",
              "    </tr>\n",
              "    <tr>\n",
              "      <th>1</th>\n",
              "      <td>1880</td>\n",
              "      <td>William</td>\n",
              "      <td>0.080511</td>\n",
              "      <td>boy</td>\n",
              "    </tr>\n",
              "    <tr>\n",
              "      <th>2</th>\n",
              "      <td>1880</td>\n",
              "      <td>James</td>\n",
              "      <td>0.050057</td>\n",
              "      <td>boy</td>\n",
              "    </tr>\n",
              "    <tr>\n",
              "      <th>3</th>\n",
              "      <td>1880</td>\n",
              "      <td>Charles</td>\n",
              "      <td>0.045167</td>\n",
              "      <td>boy</td>\n",
              "    </tr>\n",
              "    <tr>\n",
              "      <th>4</th>\n",
              "      <td>1880</td>\n",
              "      <td>George</td>\n",
              "      <td>0.043292</td>\n",
              "      <td>boy</td>\n",
              "    </tr>\n",
              "  </tbody>\n",
              "</table>\n",
              "</div>"
            ],
            "text/plain": [
              "   year     name   percent  sex\n",
              "0  1880     John  0.081541  boy\n",
              "1  1880  William  0.080511  boy\n",
              "2  1880    James  0.050057  boy\n",
              "3  1880  Charles  0.045167  boy\n",
              "4  1880   George  0.043292  boy"
            ]
          },
          "metadata": {
            "tags": []
          },
          "execution_count": 5
        }
      ]
    },
    {
      "cell_type": "markdown",
      "metadata": {
        "id": "kw5Q5Ki86tmI",
        "colab_type": "text"
      },
      "source": [
        "### Name Popularity"
      ]
    },
    {
      "cell_type": "code",
      "metadata": {
        "id": "TwaSyh_D6vCH",
        "colab_type": "code",
        "colab": {
          "base_uri": "https://localhost:8080/",
          "height": 348
        },
        "outputId": "cedc747e-ca79-4bfd-eb2d-ad371d780b28"
      },
      "source": [
        "df.sort_values(by = 'percent', ascending = False).head(10)"
      ],
      "execution_count": 6,
      "outputs": [
        {
          "output_type": "execute_result",
          "data": {
            "text/html": [
              "<div>\n",
              "<style scoped>\n",
              "    .dataframe tbody tr th:only-of-type {\n",
              "        vertical-align: middle;\n",
              "    }\n",
              "\n",
              "    .dataframe tbody tr th {\n",
              "        vertical-align: top;\n",
              "    }\n",
              "\n",
              "    .dataframe thead th {\n",
              "        text-align: right;\n",
              "    }\n",
              "</style>\n",
              "<table border=\"1\" class=\"dataframe\">\n",
              "  <thead>\n",
              "    <tr style=\"text-align: right;\">\n",
              "      <th></th>\n",
              "      <th>year</th>\n",
              "      <th>name</th>\n",
              "      <th>percent</th>\n",
              "      <th>sex</th>\n",
              "    </tr>\n",
              "  </thead>\n",
              "  <tbody>\n",
              "    <tr>\n",
              "      <th>0</th>\n",
              "      <td>1880</td>\n",
              "      <td>John</td>\n",
              "      <td>0.081541</td>\n",
              "      <td>boy</td>\n",
              "    </tr>\n",
              "    <tr>\n",
              "      <th>1000</th>\n",
              "      <td>1881</td>\n",
              "      <td>John</td>\n",
              "      <td>0.080975</td>\n",
              "      <td>boy</td>\n",
              "    </tr>\n",
              "    <tr>\n",
              "      <th>1</th>\n",
              "      <td>1880</td>\n",
              "      <td>William</td>\n",
              "      <td>0.080511</td>\n",
              "      <td>boy</td>\n",
              "    </tr>\n",
              "    <tr>\n",
              "      <th>3000</th>\n",
              "      <td>1883</td>\n",
              "      <td>John</td>\n",
              "      <td>0.079066</td>\n",
              "      <td>boy</td>\n",
              "    </tr>\n",
              "    <tr>\n",
              "      <th>1001</th>\n",
              "      <td>1881</td>\n",
              "      <td>William</td>\n",
              "      <td>0.078712</td>\n",
              "      <td>boy</td>\n",
              "    </tr>\n",
              "    <tr>\n",
              "      <th>2000</th>\n",
              "      <td>1882</td>\n",
              "      <td>John</td>\n",
              "      <td>0.078314</td>\n",
              "      <td>boy</td>\n",
              "    </tr>\n",
              "    <tr>\n",
              "      <th>4000</th>\n",
              "      <td>1884</td>\n",
              "      <td>John</td>\n",
              "      <td>0.076476</td>\n",
              "      <td>boy</td>\n",
              "    </tr>\n",
              "    <tr>\n",
              "      <th>2001</th>\n",
              "      <td>1882</td>\n",
              "      <td>William</td>\n",
              "      <td>0.076191</td>\n",
              "      <td>boy</td>\n",
              "    </tr>\n",
              "    <tr>\n",
              "      <th>6000</th>\n",
              "      <td>1886</td>\n",
              "      <td>John</td>\n",
              "      <td>0.075820</td>\n",
              "      <td>boy</td>\n",
              "    </tr>\n",
              "    <tr>\n",
              "      <th>5000</th>\n",
              "      <td>1885</td>\n",
              "      <td>John</td>\n",
              "      <td>0.075517</td>\n",
              "      <td>boy</td>\n",
              "    </tr>\n",
              "  </tbody>\n",
              "</table>\n",
              "</div>"
            ],
            "text/plain": [
              "      year     name   percent  sex\n",
              "0     1880     John  0.081541  boy\n",
              "1000  1881     John  0.080975  boy\n",
              "1     1880  William  0.080511  boy\n",
              "3000  1883     John  0.079066  boy\n",
              "1001  1881  William  0.078712  boy\n",
              "2000  1882     John  0.078314  boy\n",
              "4000  1884     John  0.076476  boy\n",
              "2001  1882  William  0.076191  boy\n",
              "6000  1886     John  0.075820  boy\n",
              "5000  1885     John  0.075517  boy"
            ]
          },
          "metadata": {
            "tags": []
          },
          "execution_count": 6
        }
      ]
    },
    {
      "cell_type": "markdown",
      "metadata": {
        "id": "Fz-0vTuj7FE2",
        "colab_type": "text"
      },
      "source": [
        "# Preparing Dataframe"
      ]
    },
    {
      "cell_type": "markdown",
      "metadata": {
        "id": "UM13H7P67F80",
        "colab_type": "text"
      },
      "source": [
        "## Vectorizing Names"
      ]
    },
    {
      "cell_type": "code",
      "metadata": {
        "id": "VeT9Miud7B8A",
        "colab_type": "code",
        "colab": {}
      },
      "source": [
        "names = df['name'].str.lower().unique()"
      ],
      "execution_count": 0,
      "outputs": []
    },
    {
      "cell_type": "code",
      "metadata": {
        "id": "PFw8pLuH7Iit",
        "colab_type": "code",
        "colab": {
          "base_uri": "https://localhost:8080/",
          "height": 35
        },
        "outputId": "91fb17c7-1474-44c2-901c-c13bf2df213b"
      },
      "source": [
        "num_unique_names = len(names)\n",
        "print(f'Found total of {num_unique_names} unique names')"
      ],
      "execution_count": 8,
      "outputs": [
        {
          "output_type": "stream",
          "text": [
            "Found total of 6782 unique names\n"
          ],
          "name": "stdout"
        }
      ]
    },
    {
      "cell_type": "code",
      "metadata": {
        "id": "IWOonIZ37JfV",
        "colab_type": "code",
        "colab": {}
      },
      "source": [
        "# TODO: This code could be made tons more performant by refactoring. \n",
        "#       Right now, it's a slow as a snail on salt.\n",
        "\n",
        "def vectorize_name(name, max_name_length, allowed_chars, pad_character):\n",
        "  tmp = []\n",
        "\n",
        "  # Standardize\n",
        "  name = name.lower()\n",
        "\n",
        "  # Pad the name if needed.\n",
        "  while len(name) < max_name_length:\n",
        "    name += pad_character\n",
        "\n",
        "  feature_index = 0\n",
        "\n",
        "  # Create the pandas series object.\n",
        "  name_vector = pd.Series()\n",
        "  \n",
        "  # Loop through all placeholders\n",
        "  for feature_index in range(max_name_length):\n",
        "      # Loop through all allowed charcters\n",
        "      for allowed_char in allowed_chars:\n",
        "\n",
        "          # Create a feature for each allowed character by its placeholder (e.g., \"j_4\")\n",
        "          feature_name = allowed_char + '_' + str(feature_index)\n",
        "\n",
        "          # If the name has a character in the placeholder, flag it as true.\n",
        "          if name[feature_index] == allowed_char:\n",
        "            name_vector[feature_name] = 1\n",
        "          else:\n",
        "            name_vector[feature_name] = 0\n",
        "  return name_vector\n",
        "\n",
        "name_vector = vectorize_name('adam', max_name_length, allowed_chars, pad_character)"
      ],
      "execution_count": 0,
      "outputs": []
    },
    {
      "cell_type": "code",
      "metadata": {
        "id": "odcwHfO_7K7F",
        "colab_type": "code",
        "colab": {
          "base_uri": "https://localhost:8080/",
          "height": 235
        },
        "outputId": "3f160be3-edd5-425a-e16f-ae95ba2a7c02"
      },
      "source": [
        "name_vector"
      ],
      "execution_count": 11,
      "outputs": [
        {
          "output_type": "execute_result",
          "data": {
            "text/plain": [
              "a_0    1\n",
              "b_0    0\n",
              "c_0    0\n",
              "d_0    0\n",
              "e_0    0\n",
              "      ..\n",
              "w_9    0\n",
              "x_9    0\n",
              "y_9    0\n",
              "z_9    0\n",
              "~_9    1\n",
              "Length: 270, dtype: int64"
            ]
          },
          "metadata": {
            "tags": []
          },
          "execution_count": 11
        }
      ]
    },
    {
      "cell_type": "code",
      "metadata": {
        "id": "nkWOv87d7MgV",
        "colab_type": "code",
        "colab": {
          "base_uri": "https://localhost:8080/",
          "height": 573
        },
        "outputId": "4b0be5f5-c54c-4160-fab7-68f9129a33bd"
      },
      "source": [
        "del df\n",
        "# Create a 'test' feature vector to force building the dataframe feature names.\n",
        "df = pd.DataFrame([vectorize_name('test', max_name_length, allowed_chars, pad_character)])\n",
        "\n",
        "for name in names:\n",
        "  print(name)\n",
        "  name_vector = vectorize_name(name, max_name_length, allowed_chars, pad_character)\n",
        "  \n",
        "  name_vector['name'] = name\n",
        "  df = df.append(name_vector, ignore_index = True, sort = False)\n"
      ],
      "execution_count": 13,
      "outputs": [
        {
          "output_type": "stream",
          "text": [
            "john\n",
            "william\n",
            "james\n",
            "charles\n",
            "george\n",
            "frank\n",
            "joseph\n",
            "thomas\n",
            "henry\n",
            "robert\n"
          ],
          "name": "stdout"
        },
        {
          "output_type": "error",
          "ename": "KeyboardInterrupt",
          "evalue": "ignored",
          "traceback": [
            "\u001b[0;31m---------------------------------------------------------------------------\u001b[0m",
            "\u001b[0;31mKeyboardInterrupt\u001b[0m                         Traceback (most recent call last)",
            "\u001b[0;32m<ipython-input-13-766be2859081>\u001b[0m in \u001b[0;36m<module>\u001b[0;34m()\u001b[0m\n\u001b[1;32m      5\u001b[0m \u001b[0;32mfor\u001b[0m \u001b[0mname\u001b[0m \u001b[0;32min\u001b[0m \u001b[0mnames\u001b[0m\u001b[0;34m:\u001b[0m\u001b[0;34m\u001b[0m\u001b[0;34m\u001b[0m\u001b[0m\n\u001b[1;32m      6\u001b[0m   \u001b[0mprint\u001b[0m\u001b[0;34m(\u001b[0m\u001b[0mname\u001b[0m\u001b[0;34m)\u001b[0m\u001b[0;34m\u001b[0m\u001b[0;34m\u001b[0m\u001b[0m\n\u001b[0;32m----> 7\u001b[0;31m   \u001b[0mname_vector\u001b[0m \u001b[0;34m=\u001b[0m \u001b[0mvectorize_name\u001b[0m\u001b[0;34m(\u001b[0m\u001b[0mname\u001b[0m\u001b[0;34m,\u001b[0m \u001b[0mmax_name_length\u001b[0m\u001b[0;34m,\u001b[0m \u001b[0mallowed_chars\u001b[0m\u001b[0;34m,\u001b[0m \u001b[0mpad_character\u001b[0m\u001b[0;34m)\u001b[0m\u001b[0;34m\u001b[0m\u001b[0;34m\u001b[0m\u001b[0m\n\u001b[0m\u001b[1;32m      8\u001b[0m \u001b[0;34m\u001b[0m\u001b[0m\n\u001b[1;32m      9\u001b[0m   \u001b[0mname_vector\u001b[0m\u001b[0;34m[\u001b[0m\u001b[0;34m'name'\u001b[0m\u001b[0;34m]\u001b[0m \u001b[0;34m=\u001b[0m \u001b[0mname\u001b[0m\u001b[0;34m\u001b[0m\u001b[0;34m\u001b[0m\u001b[0m\n",
            "\u001b[0;32m<ipython-input-9-c80853e374f0>\u001b[0m in \u001b[0;36mvectorize_name\u001b[0;34m(name, max_name_length, allowed_chars, pad_character)\u001b[0m\n\u001b[1;32m     21\u001b[0m \u001b[0;34m\u001b[0m\u001b[0m\n\u001b[1;32m     22\u001b[0m           \u001b[0;31m# Create a feature for each allowed character by its placeholder (e.g., \"j_4\")\u001b[0m\u001b[0;34m\u001b[0m\u001b[0;34m\u001b[0m\u001b[0;34m\u001b[0m\u001b[0m\n\u001b[0;32m---> 23\u001b[0;31m           \u001b[0mfeature_name\u001b[0m \u001b[0;34m=\u001b[0m \u001b[0mallowed_char\u001b[0m \u001b[0;34m+\u001b[0m \u001b[0;34m'_'\u001b[0m \u001b[0;34m+\u001b[0m \u001b[0mstr\u001b[0m\u001b[0;34m(\u001b[0m\u001b[0mfeature_index\u001b[0m\u001b[0;34m)\u001b[0m\u001b[0;34m\u001b[0m\u001b[0;34m\u001b[0m\u001b[0m\n\u001b[0m\u001b[1;32m     24\u001b[0m \u001b[0;34m\u001b[0m\u001b[0m\n\u001b[1;32m     25\u001b[0m           \u001b[0;31m# If the name has a character in the placeholder, flag it as true.\u001b[0m\u001b[0;34m\u001b[0m\u001b[0;34m\u001b[0m\u001b[0;34m\u001b[0m\u001b[0m\n",
            "\u001b[0;31mKeyboardInterrupt\u001b[0m: "
          ]
        }
      ]
    },
    {
      "cell_type": "code",
      "metadata": {
        "id": "fkLL-wsg7OS-",
        "colab_type": "code",
        "colab": {}
      },
      "source": [
        "df.to_csv('vectorized_names.csv')"
      ],
      "execution_count": 0,
      "outputs": []
    }
  ]
}