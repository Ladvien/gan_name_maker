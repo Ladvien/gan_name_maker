{
  "nbformat": 4,
  "nbformat_minor": 0,
  "metadata": {
    "colab": {
      "name": "deep_name_prep_data_sparse.ipynb",
      "provenance": [],
      "collapsed_sections": [],
      "include_colab_link": true
    },
    "kernelspec": {
      "name": "python3",
      "display_name": "Python 3"
    }
  },
  "cells": [
    {
      "cell_type": "markdown",
      "metadata": {
        "id": "view-in-github",
        "colab_type": "text"
      },
      "source": [
        "<a href=\"https://colab.research.google.com/github/Ladvien/gan_name_maker/blob/master/deep_name_prep_data_sparse.ipynb\" target=\"_parent\"><img src=\"https://colab.research.google.com/assets/colab-badge.svg\" alt=\"Open In Colab\"/></a>"
      ]
    },
    {
      "cell_type": "markdown",
      "metadata": {
        "id": "rpRme9dh6Yne",
        "colab_type": "text"
      },
      "source": [
        "# Deep Name Generator\n",
        "\n",
        "This project is meant to be a proof-of-concept.  Showing \"organic\" first names can be generated using a [Generative Advasarial Network](https://en.wikipedia.org/wiki/Generative_adversarial_network). We are using a found dataset provided by [Hadley Wickham](http://hadley.nz/) at RStudio.\n",
        "\n",
        "The goal will be to vectorize each of the names in the following format:\n",
        "\n",
        "| char_0 | char_2 | char_3 | ... | char_9 | char_10 | etc |\n",
        "|-----|-----|-----|-----|-----|------|-----|\n",
        "|  4  |  3  |  0  | ... |  19  |  0   |  17  |\n",
        "|  24  |  2  |  1  | ... |  11  |  2   |  3  |\n",
        "\n",
        "Where the letter is the one-hot encoded representation of a character and the number the placeholder in string.\n",
        "\n",
        "For example, the name `Abby` would be represented with the following vector.\n",
        "\n",
        "| char_0 | char_2 | char_3 | char_4 | char_5 | etc |\n",
        "|-----|-----|-----|-----|-----|-----|\n",
        "|  0  | 1  |  1  | 24 |  27 | .... |\n",
        "\n",
        "Given Wickham's dataset also includes:\n",
        "\n",
        "* `year`\n",
        "* `percent_[popularity]`\n",
        "* `sex`\n",
        "\n",
        "It may be interesting to add these as additional features to allow the model to learn first name contexts.\n"
      ]
    },
    {
      "cell_type": "code",
      "metadata": {
        "id": "JU-JeLhd6S-o",
        "colab_type": "code",
        "colab": {}
      },
      "source": [
        "import pandas as pd\n",
        "import numpy as np"
      ],
      "execution_count": 0,
      "outputs": []
    },
    {
      "cell_type": "code",
      "metadata": {
        "id": "wLQovCHL6cxj",
        "colab_type": "code",
        "outputId": "f35fc9a3-ce0c-4cd8-c13c-6fb8cd01732c",
        "colab": {
          "base_uri": "https://localhost:8080/",
          "height": 357
        }
      },
      "source": [
        "# Engineering parameters.\n",
        "pad_character       = '~'\n",
        "allowed_chars       = f'abcdefghijklmnopqrstuvwxyz{pad_character}'\n",
        "len_allow_chars     = len(allowed_chars)\n",
        "max_name_length     = 10 \n",
        "\n",
        "templated_df = pd.DataFrame()\n",
        "\n",
        "# Create the dataframe.\n",
        "for i in range(max_name_length):\n",
        "    templated_df['char' + '_' + str(i)] = 0\n",
        "\n",
        "# Show the first and last ten columns.\n",
        "templated_df.columns.tolist()[0:10] + templated_df.columns.tolist()[-10:]"
      ],
      "execution_count": 0,
      "outputs": [
        {
          "output_type": "execute_result",
          "data": {
            "text/plain": [
              "['char_0',\n",
              " 'char_1',\n",
              " 'char_2',\n",
              " 'char_3',\n",
              " 'char_4',\n",
              " 'char_5',\n",
              " 'char_6',\n",
              " 'char_7',\n",
              " 'char_8',\n",
              " 'char_9',\n",
              " 'char_0',\n",
              " 'char_1',\n",
              " 'char_2',\n",
              " 'char_3',\n",
              " 'char_4',\n",
              " 'char_5',\n",
              " 'char_6',\n",
              " 'char_7',\n",
              " 'char_8',\n",
              " 'char_9']"
            ]
          },
          "metadata": {
            "tags": []
          },
          "execution_count": 2
        }
      ]
    },
    {
      "cell_type": "code",
      "metadata": {
        "id": "Y1AD0gD66eUo",
        "colab_type": "code",
        "outputId": "85a36a31-f4ca-449f-cbad-286069ceebe5",
        "colab": {
          "base_uri": "https://localhost:8080/",
          "height": 34
        }
      },
      "source": [
        "!git clone https://github.com/hadley/data-baby-names.git"
      ],
      "execution_count": 0,
      "outputs": [
        {
          "output_type": "stream",
          "text": [
            "fatal: destination path 'data-baby-names' already exists and is not an empty directory.\n"
          ],
          "name": "stdout"
        }
      ]
    },
    {
      "cell_type": "markdown",
      "metadata": {
        "id": "SA3J7L3O6oSS",
        "colab_type": "text"
      },
      "source": [
        "## Examine the Data"
      ]
    },
    {
      "cell_type": "code",
      "metadata": {
        "id": "FPro4nc06nPp",
        "colab_type": "code",
        "colab": {}
      },
      "source": [
        "df = pd.read_csv('/content/data-baby-names/baby-names.csv')"
      ],
      "execution_count": 0,
      "outputs": []
    },
    {
      "cell_type": "code",
      "metadata": {
        "id": "aNqOSHDV6rui",
        "colab_type": "code",
        "outputId": "ff84bc6b-ea43-44d4-9d8a-a0b1954abb04",
        "colab": {
          "base_uri": "https://localhost:8080/",
          "height": 204
        }
      },
      "source": [
        "df.head()"
      ],
      "execution_count": 0,
      "outputs": [
        {
          "output_type": "execute_result",
          "data": {
            "text/html": [
              "<div>\n",
              "<style scoped>\n",
              "    .dataframe tbody tr th:only-of-type {\n",
              "        vertical-align: middle;\n",
              "    }\n",
              "\n",
              "    .dataframe tbody tr th {\n",
              "        vertical-align: top;\n",
              "    }\n",
              "\n",
              "    .dataframe thead th {\n",
              "        text-align: right;\n",
              "    }\n",
              "</style>\n",
              "<table border=\"1\" class=\"dataframe\">\n",
              "  <thead>\n",
              "    <tr style=\"text-align: right;\">\n",
              "      <th></th>\n",
              "      <th>year</th>\n",
              "      <th>name</th>\n",
              "      <th>percent</th>\n",
              "      <th>sex</th>\n",
              "    </tr>\n",
              "  </thead>\n",
              "  <tbody>\n",
              "    <tr>\n",
              "      <th>0</th>\n",
              "      <td>1880</td>\n",
              "      <td>John</td>\n",
              "      <td>0.081541</td>\n",
              "      <td>boy</td>\n",
              "    </tr>\n",
              "    <tr>\n",
              "      <th>1</th>\n",
              "      <td>1880</td>\n",
              "      <td>William</td>\n",
              "      <td>0.080511</td>\n",
              "      <td>boy</td>\n",
              "    </tr>\n",
              "    <tr>\n",
              "      <th>2</th>\n",
              "      <td>1880</td>\n",
              "      <td>James</td>\n",
              "      <td>0.050057</td>\n",
              "      <td>boy</td>\n",
              "    </tr>\n",
              "    <tr>\n",
              "      <th>3</th>\n",
              "      <td>1880</td>\n",
              "      <td>Charles</td>\n",
              "      <td>0.045167</td>\n",
              "      <td>boy</td>\n",
              "    </tr>\n",
              "    <tr>\n",
              "      <th>4</th>\n",
              "      <td>1880</td>\n",
              "      <td>George</td>\n",
              "      <td>0.043292</td>\n",
              "      <td>boy</td>\n",
              "    </tr>\n",
              "  </tbody>\n",
              "</table>\n",
              "</div>"
            ],
            "text/plain": [
              "   year     name   percent  sex\n",
              "0  1880     John  0.081541  boy\n",
              "1  1880  William  0.080511  boy\n",
              "2  1880    James  0.050057  boy\n",
              "3  1880  Charles  0.045167  boy\n",
              "4  1880   George  0.043292  boy"
            ]
          },
          "metadata": {
            "tags": []
          },
          "execution_count": 5
        }
      ]
    },
    {
      "cell_type": "markdown",
      "metadata": {
        "id": "kw5Q5Ki86tmI",
        "colab_type": "text"
      },
      "source": [
        "### Name Popularity"
      ]
    },
    {
      "cell_type": "code",
      "metadata": {
        "id": "TwaSyh_D6vCH",
        "colab_type": "code",
        "outputId": "aba2f080-8a88-469c-8806-dbbfd2d56602",
        "colab": {
          "base_uri": "https://localhost:8080/",
          "height": 359
        }
      },
      "source": [
        "df.sort_values(by = 'percent', ascending = False).head(10)"
      ],
      "execution_count": 0,
      "outputs": [
        {
          "output_type": "execute_result",
          "data": {
            "text/html": [
              "<div>\n",
              "<style scoped>\n",
              "    .dataframe tbody tr th:only-of-type {\n",
              "        vertical-align: middle;\n",
              "    }\n",
              "\n",
              "    .dataframe tbody tr th {\n",
              "        vertical-align: top;\n",
              "    }\n",
              "\n",
              "    .dataframe thead th {\n",
              "        text-align: right;\n",
              "    }\n",
              "</style>\n",
              "<table border=\"1\" class=\"dataframe\">\n",
              "  <thead>\n",
              "    <tr style=\"text-align: right;\">\n",
              "      <th></th>\n",
              "      <th>year</th>\n",
              "      <th>name</th>\n",
              "      <th>percent</th>\n",
              "      <th>sex</th>\n",
              "    </tr>\n",
              "  </thead>\n",
              "  <tbody>\n",
              "    <tr>\n",
              "      <th>0</th>\n",
              "      <td>1880</td>\n",
              "      <td>John</td>\n",
              "      <td>0.081541</td>\n",
              "      <td>boy</td>\n",
              "    </tr>\n",
              "    <tr>\n",
              "      <th>1000</th>\n",
              "      <td>1881</td>\n",
              "      <td>John</td>\n",
              "      <td>0.080975</td>\n",
              "      <td>boy</td>\n",
              "    </tr>\n",
              "    <tr>\n",
              "      <th>1</th>\n",
              "      <td>1880</td>\n",
              "      <td>William</td>\n",
              "      <td>0.080511</td>\n",
              "      <td>boy</td>\n",
              "    </tr>\n",
              "    <tr>\n",
              "      <th>3000</th>\n",
              "      <td>1883</td>\n",
              "      <td>John</td>\n",
              "      <td>0.079066</td>\n",
              "      <td>boy</td>\n",
              "    </tr>\n",
              "    <tr>\n",
              "      <th>1001</th>\n",
              "      <td>1881</td>\n",
              "      <td>William</td>\n",
              "      <td>0.078712</td>\n",
              "      <td>boy</td>\n",
              "    </tr>\n",
              "    <tr>\n",
              "      <th>2000</th>\n",
              "      <td>1882</td>\n",
              "      <td>John</td>\n",
              "      <td>0.078314</td>\n",
              "      <td>boy</td>\n",
              "    </tr>\n",
              "    <tr>\n",
              "      <th>4000</th>\n",
              "      <td>1884</td>\n",
              "      <td>John</td>\n",
              "      <td>0.076476</td>\n",
              "      <td>boy</td>\n",
              "    </tr>\n",
              "    <tr>\n",
              "      <th>2001</th>\n",
              "      <td>1882</td>\n",
              "      <td>William</td>\n",
              "      <td>0.076191</td>\n",
              "      <td>boy</td>\n",
              "    </tr>\n",
              "    <tr>\n",
              "      <th>6000</th>\n",
              "      <td>1886</td>\n",
              "      <td>John</td>\n",
              "      <td>0.075820</td>\n",
              "      <td>boy</td>\n",
              "    </tr>\n",
              "    <tr>\n",
              "      <th>5000</th>\n",
              "      <td>1885</td>\n",
              "      <td>John</td>\n",
              "      <td>0.075517</td>\n",
              "      <td>boy</td>\n",
              "    </tr>\n",
              "  </tbody>\n",
              "</table>\n",
              "</div>"
            ],
            "text/plain": [
              "      year     name   percent  sex\n",
              "0     1880     John  0.081541  boy\n",
              "1000  1881     John  0.080975  boy\n",
              "1     1880  William  0.080511  boy\n",
              "3000  1883     John  0.079066  boy\n",
              "1001  1881  William  0.078712  boy\n",
              "2000  1882     John  0.078314  boy\n",
              "4000  1884     John  0.076476  boy\n",
              "2001  1882  William  0.076191  boy\n",
              "6000  1886     John  0.075820  boy\n",
              "5000  1885     John  0.075517  boy"
            ]
          },
          "metadata": {
            "tags": []
          },
          "execution_count": 6
        }
      ]
    },
    {
      "cell_type": "markdown",
      "metadata": {
        "id": "Fz-0vTuj7FE2",
        "colab_type": "text"
      },
      "source": [
        "# Preparing Dataframe"
      ]
    },
    {
      "cell_type": "markdown",
      "metadata": {
        "id": "UM13H7P67F80",
        "colab_type": "text"
      },
      "source": [
        "## Vectorizing Names"
      ]
    },
    {
      "cell_type": "code",
      "metadata": {
        "id": "VeT9Miud7B8A",
        "colab_type": "code",
        "colab": {}
      },
      "source": [
        "names = df['name'].str.lower().unique()"
      ],
      "execution_count": 0,
      "outputs": []
    },
    {
      "cell_type": "code",
      "metadata": {
        "id": "PFw8pLuH7Iit",
        "colab_type": "code",
        "outputId": "67df11e0-eceb-4341-9d54-88edf7b17576",
        "colab": {
          "base_uri": "https://localhost:8080/",
          "height": 34
        }
      },
      "source": [
        "num_unique_names = len(names)\n",
        "print(f'Found total of {num_unique_names} unique names')"
      ],
      "execution_count": 0,
      "outputs": [
        {
          "output_type": "stream",
          "text": [
            "Found total of 6782 unique names\n"
          ],
          "name": "stdout"
        }
      ]
    },
    {
      "cell_type": "code",
      "metadata": {
        "id": "5JMWm4d5tVvq",
        "colab_type": "code",
        "colab": {}
      },
      "source": [
        "from sklearn.preprocessing import LabelEncoder\n",
        "\n",
        "# Fire up an encoder\n",
        "le = LabelEncoder()\n",
        "\n",
        "# Standardize\n",
        "df['name'] = df['name'].str.lower()\n",
        "\n",
        "# Exclude all names over the maximum name length.\n",
        "df = df[df['name'].str.len() <= max_name_length]\n",
        "\n",
        "# Fill empty spaces\n",
        "df['name'] = df['name'].str.ljust(max_name_length, pad_character)\n",
        "\n",
        "# Store the actual name for a moment.\n",
        "tmp = df['name'].iloc[len(allowed_chars):].reset_index(drop = True)\n",
        "\n",
        "# Chop the name into columns by character.\n",
        "df = df['name'].apply(lambda x: pd.Series(list(x)))\n",
        "\n"
      ],
      "execution_count": 0,
      "outputs": []
    },
    {
      "cell_type": "code",
      "metadata": {
        "id": "v0bO5DvrvZle",
        "colab_type": "code",
        "outputId": "1cdc93d5-9767-419d-f9eb-2687ca5794cc",
        "colab": {
          "base_uri": "https://localhost:8080/",
          "height": 34
        }
      },
      "source": [
        "df.shape"
      ],
      "execution_count": 0,
      "outputs": [
        {
          "output_type": "execute_result",
          "data": {
            "text/plain": [
              "(257730, 10)"
            ]
          },
          "metadata": {
            "tags": []
          },
          "execution_count": 10
        }
      ]
    },
    {
      "cell_type": "code",
      "metadata": {
        "id": "gooFhNV-vk8g",
        "colab_type": "code",
        "colab": {}
      },
      "source": [
        "# Encode the characters\n",
        "df = df.apply(le.fit_transform)"
      ],
      "execution_count": 0,
      "outputs": []
    },
    {
      "cell_type": "code",
      "metadata": {
        "id": "U_L0hnJvw95l",
        "colab_type": "code",
        "colab": {}
      },
      "source": [
        "# Give the columns names\n",
        "df.columns = ['char_' + str(x) for x in range(df.shape[1])]"
      ],
      "execution_count": 0,
      "outputs": []
    },
    {
      "cell_type": "code",
      "metadata": {
        "id": "SHfhWHUixXAH",
        "colab_type": "code",
        "colab": {}
      },
      "source": [
        "df = df.reset_index(drop = True)\n",
        "df['name'] = tmp"
      ],
      "execution_count": 0,
      "outputs": []
    },
    {
      "cell_type": "code",
      "metadata": {
        "id": "l3JynRkcxaW2",
        "colab_type": "code",
        "outputId": "bf24546d-5ca2-4c5d-cf76-59f23b8ee2b6",
        "colab": {
          "base_uri": "https://localhost:8080/",
          "height": 419
        }
      },
      "source": [
        "df.tail(100)"
      ],
      "execution_count": 0,
      "outputs": [
        {
          "output_type": "execute_result",
          "data": {
            "text/html": [
              "<div>\n",
              "<style scoped>\n",
              "    .dataframe tbody tr th:only-of-type {\n",
              "        vertical-align: middle;\n",
              "    }\n",
              "\n",
              "    .dataframe tbody tr th {\n",
              "        vertical-align: top;\n",
              "    }\n",
              "\n",
              "    .dataframe thead th {\n",
              "        text-align: right;\n",
              "    }\n",
              "</style>\n",
              "<table border=\"1\" class=\"dataframe\">\n",
              "  <thead>\n",
              "    <tr style=\"text-align: right;\">\n",
              "      <th></th>\n",
              "      <th>char_0</th>\n",
              "      <th>char_1</th>\n",
              "      <th>char_2</th>\n",
              "      <th>char_3</th>\n",
              "      <th>char_4</th>\n",
              "      <th>char_5</th>\n",
              "      <th>char_6</th>\n",
              "      <th>char_7</th>\n",
              "      <th>char_8</th>\n",
              "      <th>char_9</th>\n",
              "      <th>name</th>\n",
              "    </tr>\n",
              "  </thead>\n",
              "  <tbody>\n",
              "    <tr>\n",
              "      <th>257900</th>\n",
              "      <td>2</td>\n",
              "      <td>0</td>\n",
              "      <td>17</td>\n",
              "      <td>8</td>\n",
              "      <td>13</td>\n",
              "      <td>0</td>\n",
              "      <td>25</td>\n",
              "      <td>23</td>\n",
              "      <td>14</td>\n",
              "      <td>10</td>\n",
              "      <td>NaN</td>\n",
              "    </tr>\n",
              "    <tr>\n",
              "      <th>257901</th>\n",
              "      <td>10</td>\n",
              "      <td>0</td>\n",
              "      <td>17</td>\n",
              "      <td>11</td>\n",
              "      <td>8</td>\n",
              "      <td>26</td>\n",
              "      <td>25</td>\n",
              "      <td>23</td>\n",
              "      <td>14</td>\n",
              "      <td>10</td>\n",
              "      <td>NaN</td>\n",
              "    </tr>\n",
              "    <tr>\n",
              "      <th>257902</th>\n",
              "      <td>12</td>\n",
              "      <td>0</td>\n",
              "      <td>6</td>\n",
              "      <td>3</td>\n",
              "      <td>0</td>\n",
              "      <td>11</td>\n",
              "      <td>4</td>\n",
              "      <td>12</td>\n",
              "      <td>0</td>\n",
              "      <td>10</td>\n",
              "      <td>NaN</td>\n",
              "    </tr>\n",
              "    <tr>\n",
              "      <th>257903</th>\n",
              "      <td>18</td>\n",
              "      <td>19</td>\n",
              "      <td>4</td>\n",
              "      <td>15</td>\n",
              "      <td>7</td>\n",
              "      <td>0</td>\n",
              "      <td>12</td>\n",
              "      <td>21</td>\n",
              "      <td>14</td>\n",
              "      <td>10</td>\n",
              "      <td>NaN</td>\n",
              "    </tr>\n",
              "    <tr>\n",
              "      <th>257904</th>\n",
              "      <td>2</td>\n",
              "      <td>7</td>\n",
              "      <td>0</td>\n",
              "      <td>17</td>\n",
              "      <td>11</td>\n",
              "      <td>8</td>\n",
              "      <td>24</td>\n",
              "      <td>4</td>\n",
              "      <td>14</td>\n",
              "      <td>10</td>\n",
              "      <td>NaN</td>\n",
              "    </tr>\n",
              "    <tr>\n",
              "      <th>...</th>\n",
              "      <td>...</td>\n",
              "      <td>...</td>\n",
              "      <td>...</td>\n",
              "      <td>...</td>\n",
              "      <td>...</td>\n",
              "      <td>...</td>\n",
              "      <td>...</td>\n",
              "      <td>...</td>\n",
              "      <td>...</td>\n",
              "      <td>...</td>\n",
              "      <td>...</td>\n",
              "    </tr>\n",
              "    <tr>\n",
              "      <th>257995</th>\n",
              "      <td>2</td>\n",
              "      <td>0</td>\n",
              "      <td>17</td>\n",
              "      <td>11</td>\n",
              "      <td>4</td>\n",
              "      <td>8</td>\n",
              "      <td>6</td>\n",
              "      <td>7</td>\n",
              "      <td>14</td>\n",
              "      <td>10</td>\n",
              "      <td>NaN</td>\n",
              "    </tr>\n",
              "    <tr>\n",
              "      <th>257996</th>\n",
              "      <td>8</td>\n",
              "      <td>24</td>\n",
              "      <td>0</td>\n",
              "      <td>13</td>\n",
              "      <td>0</td>\n",
              "      <td>26</td>\n",
              "      <td>25</td>\n",
              "      <td>23</td>\n",
              "      <td>14</td>\n",
              "      <td>10</td>\n",
              "      <td>NaN</td>\n",
              "    </tr>\n",
              "    <tr>\n",
              "      <th>257997</th>\n",
              "      <td>10</td>\n",
              "      <td>4</td>\n",
              "      <td>13</td>\n",
              "      <td>11</td>\n",
              "      <td>4</td>\n",
              "      <td>24</td>\n",
              "      <td>25</td>\n",
              "      <td>23</td>\n",
              "      <td>14</td>\n",
              "      <td>10</td>\n",
              "      <td>NaN</td>\n",
              "    </tr>\n",
              "    <tr>\n",
              "      <th>257998</th>\n",
              "      <td>18</td>\n",
              "      <td>11</td>\n",
              "      <td>14</td>\n",
              "      <td>0</td>\n",
              "      <td>13</td>\n",
              "      <td>4</td>\n",
              "      <td>25</td>\n",
              "      <td>23</td>\n",
              "      <td>14</td>\n",
              "      <td>10</td>\n",
              "      <td>NaN</td>\n",
              "    </tr>\n",
              "    <tr>\n",
              "      <th>257999</th>\n",
              "      <td>4</td>\n",
              "      <td>11</td>\n",
              "      <td>8</td>\n",
              "      <td>0</td>\n",
              "      <td>13</td>\n",
              "      <td>13</td>\n",
              "      <td>0</td>\n",
              "      <td>23</td>\n",
              "      <td>14</td>\n",
              "      <td>10</td>\n",
              "      <td>NaN</td>\n",
              "    </tr>\n",
              "  </tbody>\n",
              "</table>\n",
              "<p>100 rows × 11 columns</p>\n",
              "</div>"
            ],
            "text/plain": [
              "        char_0  char_1  char_2  char_3  ...  char_7  char_8  char_9  name\n",
              "257900       2       0      17       8  ...      23      14      10   NaN\n",
              "257901      10       0      17      11  ...      23      14      10   NaN\n",
              "257902      12       0       6       3  ...      12       0      10   NaN\n",
              "257903      18      19       4      15  ...      21      14      10   NaN\n",
              "257904       2       7       0      17  ...       4      14      10   NaN\n",
              "...        ...     ...     ...     ...  ...     ...     ...     ...   ...\n",
              "257995       2       0      17      11  ...       7      14      10   NaN\n",
              "257996       8      24       0      13  ...      23      14      10   NaN\n",
              "257997      10       4      13      11  ...      23      14      10   NaN\n",
              "257998      18      11      14       0  ...      23      14      10   NaN\n",
              "257999       4      11       8       0  ...      23      14      10   NaN\n",
              "\n",
              "[100 rows x 11 columns]"
            ]
          },
          "metadata": {
            "tags": []
          },
          "execution_count": 66
        }
      ]
    },
    {
      "cell_type": "code",
      "metadata": {
        "id": "fkLL-wsg7OS-",
        "colab_type": "code",
        "colab": {}
      },
      "source": [
        "df.to_csv('vectorized_names_sparse.csv')"
      ],
      "execution_count": 0,
      "outputs": []
    },
    {
      "cell_type": "code",
      "metadata": {
        "id": "ZfCQxLHtlkv2",
        "colab_type": "code",
        "outputId": "991b9103-27e7-43b8-ac41-028a058d9d72",
        "colab": {
          "base_uri": "https://localhost:8080/",
          "height": 204
        }
      },
      "source": [
        "df.head()"
      ],
      "execution_count": 0,
      "outputs": [
        {
          "output_type": "execute_result",
          "data": {
            "text/html": [
              "<div>\n",
              "<style scoped>\n",
              "    .dataframe tbody tr th:only-of-type {\n",
              "        vertical-align: middle;\n",
              "    }\n",
              "\n",
              "    .dataframe tbody tr th {\n",
              "        vertical-align: top;\n",
              "    }\n",
              "\n",
              "    .dataframe thead th {\n",
              "        text-align: right;\n",
              "    }\n",
              "</style>\n",
              "<table border=\"1\" class=\"dataframe\">\n",
              "  <thead>\n",
              "    <tr style=\"text-align: right;\">\n",
              "      <th></th>\n",
              "      <th>char_0</th>\n",
              "      <th>char_1</th>\n",
              "      <th>char_2</th>\n",
              "      <th>char_3</th>\n",
              "      <th>char_4</th>\n",
              "      <th>char_5</th>\n",
              "      <th>char_6</th>\n",
              "      <th>char_7</th>\n",
              "      <th>char_8</th>\n",
              "      <th>char_9</th>\n",
              "      <th>name</th>\n",
              "    </tr>\n",
              "  </thead>\n",
              "  <tbody>\n",
              "    <tr>\n",
              "      <th>0</th>\n",
              "      <td>9</td>\n",
              "      <td>14</td>\n",
              "      <td>7</td>\n",
              "      <td>13</td>\n",
              "      <td>26</td>\n",
              "      <td>26</td>\n",
              "      <td>25</td>\n",
              "      <td>23</td>\n",
              "      <td>14</td>\n",
              "      <td>10</td>\n",
              "      <td>jesse~~~~~</td>\n",
              "    </tr>\n",
              "    <tr>\n",
              "      <th>1</th>\n",
              "      <td>22</td>\n",
              "      <td>8</td>\n",
              "      <td>11</td>\n",
              "      <td>11</td>\n",
              "      <td>8</td>\n",
              "      <td>0</td>\n",
              "      <td>11</td>\n",
              "      <td>23</td>\n",
              "      <td>14</td>\n",
              "      <td>10</td>\n",
              "      <td>oscar~~~~~</td>\n",
              "    </tr>\n",
              "    <tr>\n",
              "      <th>2</th>\n",
              "      <td>9</td>\n",
              "      <td>0</td>\n",
              "      <td>12</td>\n",
              "      <td>4</td>\n",
              "      <td>18</td>\n",
              "      <td>26</td>\n",
              "      <td>25</td>\n",
              "      <td>23</td>\n",
              "      <td>14</td>\n",
              "      <td>10</td>\n",
              "      <td>lewis~~~~~</td>\n",
              "    </tr>\n",
              "    <tr>\n",
              "      <th>3</th>\n",
              "      <td>2</td>\n",
              "      <td>7</td>\n",
              "      <td>0</td>\n",
              "      <td>17</td>\n",
              "      <td>11</td>\n",
              "      <td>4</td>\n",
              "      <td>17</td>\n",
              "      <td>23</td>\n",
              "      <td>14</td>\n",
              "      <td>10</td>\n",
              "      <td>peter~~~~~</td>\n",
              "    </tr>\n",
              "    <tr>\n",
              "      <th>4</th>\n",
              "      <td>6</td>\n",
              "      <td>4</td>\n",
              "      <td>14</td>\n",
              "      <td>17</td>\n",
              "      <td>6</td>\n",
              "      <td>4</td>\n",
              "      <td>25</td>\n",
              "      <td>23</td>\n",
              "      <td>14</td>\n",
              "      <td>10</td>\n",
              "      <td>benjamin~~</td>\n",
              "    </tr>\n",
              "  </tbody>\n",
              "</table>\n",
              "</div>"
            ],
            "text/plain": [
              "   char_0  char_1  char_2  char_3  ...  char_7  char_8  char_9        name\n",
              "0       9      14       7      13  ...      23      14      10  jesse~~~~~\n",
              "1      22       8      11      11  ...      23      14      10  oscar~~~~~\n",
              "2       9       0      12       4  ...      23      14      10  lewis~~~~~\n",
              "3       2       7       0      17  ...      23      14      10  peter~~~~~\n",
              "4       6       4      14      17  ...      23      14      10  benjamin~~\n",
              "\n",
              "[5 rows x 11 columns]"
            ]
          },
          "metadata": {
            "tags": []
          },
          "execution_count": 63
        }
      ]
    },
    {
      "cell_type": "code",
      "metadata": {
        "id": "cNq6uy-Ull7S",
        "colab_type": "code",
        "colab": {}
      },
      "source": [
        ""
      ],
      "execution_count": 0,
      "outputs": []
    }
  ]
}